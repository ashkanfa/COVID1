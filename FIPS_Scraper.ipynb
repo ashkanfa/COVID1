{
 "cells": [
  {
   "cell_type": "code",
   "execution_count": 3,
   "metadata": {},
   "outputs": [],
   "source": [
    "# scrape county names and FIPS from USDA\n",
    "\n",
    "#pip install beautifulsoup4\n",
    "import numpy as np\n",
    "import pandas as pd\n",
    "import urllib.request, urllib.parse, urllib.error\n",
    "from bs4 import BeautifulSoup, NavigableString, Tag\n",
    "import ssl\n",
    "import re\n",
    "\n",
    "# Ignore SSL certificate errors\n",
    "ctx = ssl.create_default_context()\n",
    "ctx.check_hostname = False\n",
    "ctx.verify_mode = ssl.CERT_NONE\n",
    "\n",
    "#USDA\n",
    "url = \"https://www.nrcs.usda.gov/wps/portal/nrcs/detail/national/home/?cid=nrcs143_013697\"\n",
    "html = urllib.request.urlopen(url, context=ctx).read()\n",
    "soup = BeautifulSoup(html,'html.parser')\n",
    "\n",
    "# creating the FIPS county data frame\n",
    "\n",
    "nextNode = soup.h2.nextSibling.nextSibling.nextSibling.nextSibling # always check if nextSibling returns the result you want, otherwise you can go further\n",
    "fips_tags = nextNode.find_all(\"td\")\n",
    "l = len(nextNode.find_all(\"td\"))\n",
    "\n",
    "fips   = []\n",
    "county = []\n",
    "state  = []\n",
    "fips_index = np.arange(0,l,3)\n",
    "\n",
    "for i in range(len(fips_index)):\n",
    "    j = fips_index[i]\n",
    "    fips.append(fips_tags[j].text)\n",
    "    county.append(fips_tags[j+1].text)\n",
    "    state.append(fips_tags[j+2].text)\n",
    "\n",
    "fips_df = pd.DataFrame({'fips':fips,'county':county, 'state': state})                "
   ]
  }
 ],
 "metadata": {
  "kernelspec": {
   "display_name": "Python 3",
   "language": "python",
   "name": "python3"
  },
  "language_info": {
   "codemirror_mode": {
    "name": "ipython",
    "version": 3
   },
   "file_extension": ".py",
   "mimetype": "text/x-python",
   "name": "python",
   "nbconvert_exporter": "python",
   "pygments_lexer": "ipython3",
   "version": "3.7.5"
  }
 },
 "nbformat": 4,
 "nbformat_minor": 4
}
